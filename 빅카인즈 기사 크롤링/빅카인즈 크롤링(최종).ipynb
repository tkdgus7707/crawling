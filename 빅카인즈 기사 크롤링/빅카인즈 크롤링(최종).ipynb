{
 "cells": [
  {
   "cell_type": "code",
   "execution_count": 1,
   "metadata": {},
   "outputs": [],
   "source": [
    "import sys\n",
    "import os\n",
    "from selenium import webdriver\n",
    "from selenium.webdriver.chrome.options import Options\n",
    "from selenium.webdriver.support.ui import WebDriverWait\n",
    "# expected_conditions는 Selenium 2.26.0 이후 부터 사용 가능합니다.\n",
    "from selenium.webdriver.support import expected_conditions as EC\n",
    "from selenium.webdriver.common.by import By\n",
    "import time\n",
    "import pandas as pd\n",
    "from selenium.webdriver.common.keys import Keys\n",
    "from bs4 import BeautifulSoup\n",
    "from datetime import datetime\n",
    "import re "
   ]
  },
  {
   "cell_type": "code",
   "execution_count": 2,
   "metadata": {},
   "outputs": [],
   "source": [
    "def start_crawler():\n",
    "    #유튜브 열고 로그인화면으로 이동\n",
    "    driver.get('https://www.bigkinds.or.kr/')\n",
    "    time.sleep(3)\n",
    "    login = WebDriverWait(driver, 30).until(EC.presence_of_element_located((By.CSS_SELECTOR,'#app-top-navbar > ul > li:nth-child(1) > a')))\n",
    "    login.click()\n",
    "    # id 입력\n",
    "    time.sleep(1)\n",
    "    driver.find_element_by_css_selector('#login-user-id').click()\n",
    "    ids = driver.find_element_by_css_selector(\"#login-user-id\")\n",
    "    ids.send_keys('ds3akd@naver.com')\n",
    "    # pw 입력\n",
    "    time.sleep(1)\n",
    "    driver.find_element_by_css_selector('#login-user-password').click()\n",
    "    pws = driver.find_element_by_css_selector(\"#login-user-password\")\n",
    "    pws.send_keys('sk680807')\n",
    "    driver.find_element_by_css_selector(\"#login-btn\").click()\n",
    "    time.sleep(3)"
   ]
  },
  {
   "cell_type": "code",
   "execution_count": 3,
   "metadata": {},
   "outputs": [],
   "source": [
    "def date_click():\n",
    "    # 날짜 3개년치만 지정하는 함수\n",
    "    date = WebDriverWait(driver, 30).until(EC.presence_of_element_located((By.CSS_SELECTOR,'#date-filter-btn')))\n",
    "    date.click()  # 기간 \n",
    "    put = WebDriverWait(driver, 30).until(EC.presence_of_element_located((By.CSS_SELECTOR,'#search-begin-date')))\n",
    "    for i in range(1,11):\n",
    "        put.send_keys(Keys.BACK_SPACE) # backspace\n",
    "    \n",
    "    now = datetime.now()\n",
    "    put.send_keys('%s-%s-%s' % ( now.year-3, now.month, now.day ))\n",
    "    # 3년전까지 지정 날짜 지정\n",
    "    cl = WebDriverWait(driver, 30).until(EC.presence_of_element_located((By.CSS_SELECTOR,'#date-filter-div > div')))\n",
    "    cl.click()  # 달력 없앰\n",
    "    \n",
    "    confirm = WebDriverWait(driver, 30).until(EC.presence_of_element_located((By.CSS_SELECTOR,'#date-confirm-btn')))\n",
    "    confirm.click()   # 적용"
   ]
  },
  {
   "cell_type": "code",
   "execution_count": 4,
   "metadata": {},
   "outputs": [],
   "source": [
    "#기사내용 텍스트파일에 저장\n",
    "def save_csv(code):      \n",
    "    #해당지점에 medicine1이라는 텍스트 파일을 열고 새로운 것을 이어적는다.\n",
    "    f = open('./data/bigkinds_news.txt','a',encoding='utf-8') \n",
    "    f.write(code+\" \")\n",
    "    f.close()"
   ]
  },
  {
   "cell_type": "code",
   "execution_count": 5,
   "metadata": {},
   "outputs": [],
   "source": [
    "#해당페이지의 기사 클릭후 문자저장 닫기 \n",
    "data = []\n",
    "def auto(code):\n",
    "    for i in range(1,11):\n",
    "            time.sleep(1)\n",
    "            #i번째 기사를 클릭한다 \n",
    "            csselector = '#news-results > div:nth-child(%s) > div.news-item__body > h4'%i\n",
    "            a = WebDriverWait(driver, 10).until(EC.presence_of_element_located((By.CSS_SELECTOR,csselector)))\n",
    "            a.click()\n",
    "            html = driver.page_source\n",
    "            soup = BeautifulSoup(html, 'html.parser') \n",
    "            ##기사내용 지정후 한글추출이 완료되면 data에 리스트형태로 저장하고 text파일에 추가한다\n",
    "            te = soup.select('#news-detail-modal > div > div > div.modal-body > div')\n",
    "            #선택한 부분의 css_selector가 리스트형태이기에 문자형으로 바꾼다.\n",
    "            ste = str(te)\n",
    "            ste = cleanText(ste)\n",
    "            data.append(ste)\n",
    "            save_csv(ste)\n",
    "            #위 과정이 끝나면 기사닫기버튼을 클릭한다\n",
    "            time.sleep(2)\n",
    "            WebDriverWait(driver, 10).until(EC.element_to_be_clickable((By.CSS_SELECTOR,'#news-detail-modal > div > div > div.modal-header > button'))).click()\n",
    "            time.sleep(7)"
   ]
  },
  {
   "cell_type": "code",
   "execution_count": 6,
   "metadata": {},
   "outputs": [],
   "source": [
    "#다음페이지\n",
    "def next_page():\n",
    "    try:\n",
    "        WebDriverWait(driver, 20).until(EC.presence_of_element_located((By.CSS_SELECTOR,'#news-results-pagination > ul > li:nth-child(10) > a'))).click()\n",
    "        time.sleep(15)\n",
    "    except Exception as e:\n",
    "        pass"
   ]
  },
  {
   "cell_type": "code",
   "execution_count": 7,
   "metadata": {},
   "outputs": [],
   "source": [
    "# 크롤링한 기사 정제\n",
    "#한글빼고 모두 제거\n",
    "def cleanText(readData):\n",
    "    #단어나 숫자가 13자리이상인 것을 공백으로 대체한다\n",
    "    result = re.sub('[^ ㄱ-ㅣㅣ가-힣|0-9|a-z|A-Z]+','',readData)\n",
    "    result = re.sub('\\w{13,}','',result)\n",
    "    result = re.sub('div','',result)\n",
    "    result = re.sub('br','',result)\n",
    "    result = re.sub('span classquot0','',result)\n",
    "    result = re.sub('span','',result)\n",
    "    result = re.sub('classquot','',result)\n",
    "    result = re.sub('mt2','',result)\n",
    "    result = re.sub('mb2img','',result)\n",
    "    result = re.sub('alt','',result)\n",
    "    convert = \" \".join(result.split())\n",
    "    return convert"
   ]
  },
  {
   "cell_type": "code",
   "execution_count": 8,
   "metadata": {},
   "outputs": [],
   "source": [
    "def bigkinds_crawl(find, num):   # find 검색어, num 크롤링할 개수\n",
    "    global driver  # 전역변수로 선언\n",
    "    driver = webdriver.Chrome()\n",
    "    start_crawler() # 로그인\n",
    "    \n",
    "    date_click()  # 날짜\n",
    "    time.sleep(1)\n",
    "    \n",
    "    driver.find_element_by_css_selector('#total-search-key').send_keys(find)\n",
    "    dd = driver.find_element_by_css_selector('#news-search-form > div > div > div > div.input-group.main-search__form > span > button')\n",
    "    dd.click()\n",
    "    time.sleep(4)\n",
    "    \n",
    "    #기사추출 반복문\n",
    "    start_code = 0\n",
    "    while start_code < num:\n",
    "        try:\n",
    "            start_code = start_code + 1\n",
    "            code = start_code\n",
    "            auto(code)\n",
    "            next_page()\n",
    "        except Exception as e:\n",
    "            continue\n",
    "        if start_code == num:\n",
    "            print('완료')"
   ]
  },
  {
   "cell_type": "code",
   "execution_count": 9,
   "metadata": {},
   "outputs": [
    {
     "ename": "KeyboardInterrupt",
     "evalue": "",
     "output_type": "error",
     "traceback": [
      "\u001b[1;31m---------------------------------------------------------------------------\u001b[0m",
      "\u001b[1;31mKeyboardInterrupt\u001b[0m                         Traceback (most recent call last)",
      "\u001b[1;32m<ipython-input-9-120b3c1ed3c7>\u001b[0m in \u001b[0;36m<module>\u001b[1;34m\u001b[0m\n\u001b[1;32m----> 1\u001b[1;33m \u001b[0mbigkinds_crawl\u001b[0m\u001b[1;33m(\u001b[0m\u001b[1;34m\"머신러닝\"\u001b[0m\u001b[1;33m,\u001b[0m \u001b[1;36m1000\u001b[0m\u001b[1;33m)\u001b[0m\u001b[1;33m\u001b[0m\u001b[1;33m\u001b[0m\u001b[0m\n\u001b[0m",
      "\u001b[1;32m<ipython-input-8-fc6f24fd64d6>\u001b[0m in \u001b[0;36mbigkinds_crawl\u001b[1;34m(find, num)\u001b[0m\n\u001b[0;32m     18\u001b[0m             \u001b[0mstart_code\u001b[0m \u001b[1;33m=\u001b[0m \u001b[0mstart_code\u001b[0m \u001b[1;33m+\u001b[0m \u001b[1;36m1\u001b[0m\u001b[1;33m\u001b[0m\u001b[1;33m\u001b[0m\u001b[0m\n\u001b[0;32m     19\u001b[0m             \u001b[0mcode\u001b[0m \u001b[1;33m=\u001b[0m \u001b[0mstart_code\u001b[0m\u001b[1;33m\u001b[0m\u001b[1;33m\u001b[0m\u001b[0m\n\u001b[1;32m---> 20\u001b[1;33m             \u001b[0mauto\u001b[0m\u001b[1;33m(\u001b[0m\u001b[0mcode\u001b[0m\u001b[1;33m)\u001b[0m\u001b[1;33m\u001b[0m\u001b[1;33m\u001b[0m\u001b[0m\n\u001b[0m\u001b[0;32m     21\u001b[0m             \u001b[0mnext_page\u001b[0m\u001b[1;33m(\u001b[0m\u001b[1;33m)\u001b[0m\u001b[1;33m\u001b[0m\u001b[1;33m\u001b[0m\u001b[0m\n\u001b[0;32m     22\u001b[0m         \u001b[1;32mexcept\u001b[0m \u001b[0mException\u001b[0m \u001b[1;32mas\u001b[0m \u001b[0me\u001b[0m\u001b[1;33m:\u001b[0m\u001b[1;33m\u001b[0m\u001b[1;33m\u001b[0m\u001b[0m\n",
      "\u001b[1;32m<ipython-input-5-82dd5338d09f>\u001b[0m in \u001b[0;36mauto\u001b[1;34m(code)\u001b[0m\n\u001b[0;32m     20\u001b[0m             \u001b[0mtime\u001b[0m\u001b[1;33m.\u001b[0m\u001b[0msleep\u001b[0m\u001b[1;33m(\u001b[0m\u001b[1;36m2\u001b[0m\u001b[1;33m)\u001b[0m\u001b[1;33m\u001b[0m\u001b[1;33m\u001b[0m\u001b[0m\n\u001b[0;32m     21\u001b[0m             \u001b[0mWebDriverWait\u001b[0m\u001b[1;33m(\u001b[0m\u001b[0mdriver\u001b[0m\u001b[1;33m,\u001b[0m \u001b[1;36m10\u001b[0m\u001b[1;33m)\u001b[0m\u001b[1;33m.\u001b[0m\u001b[0muntil\u001b[0m\u001b[1;33m(\u001b[0m\u001b[0mEC\u001b[0m\u001b[1;33m.\u001b[0m\u001b[0melement_to_be_clickable\u001b[0m\u001b[1;33m(\u001b[0m\u001b[1;33m(\u001b[0m\u001b[0mBy\u001b[0m\u001b[1;33m.\u001b[0m\u001b[0mCSS_SELECTOR\u001b[0m\u001b[1;33m,\u001b[0m\u001b[1;34m'#news-detail-modal > div > div > div.modal-header > button'\u001b[0m\u001b[1;33m)\u001b[0m\u001b[1;33m)\u001b[0m\u001b[1;33m)\u001b[0m\u001b[1;33m.\u001b[0m\u001b[0mclick\u001b[0m\u001b[1;33m(\u001b[0m\u001b[1;33m)\u001b[0m\u001b[1;33m\u001b[0m\u001b[1;33m\u001b[0m\u001b[0m\n\u001b[1;32m---> 22\u001b[1;33m             \u001b[0mtime\u001b[0m\u001b[1;33m.\u001b[0m\u001b[0msleep\u001b[0m\u001b[1;33m(\u001b[0m\u001b[1;36m7\u001b[0m\u001b[1;33m)\u001b[0m\u001b[1;33m\u001b[0m\u001b[1;33m\u001b[0m\u001b[0m\n\u001b[0m",
      "\u001b[1;31mKeyboardInterrupt\u001b[0m: "
     ]
    }
   ],
   "source": [
    "# bigkinds_crawl(검색어, 기사 개수 / 10)\n",
    "# 예) bigkinds_crawl(\"머신러닝\", 2)  ->  머신러닝에 관련된 기사를 2페이지까지  크롤링 (한페이지당 10개 기사)\n",
    "bigkinds_crawl(\"머신러닝\", 1000)"
   ]
  },
  {
   "cell_type": "code",
   "execution_count": null,
   "metadata": {},
   "outputs": [],
   "source": []
  }
 ],
 "metadata": {
  "kernelspec": {
   "display_name": "Python 3",
   "language": "python",
   "name": "python3"
  },
  "language_info": {
   "codemirror_mode": {
    "name": "ipython",
    "version": 3
   },
   "file_extension": ".py",
   "mimetype": "text/x-python",
   "name": "python",
   "nbconvert_exporter": "python",
   "pygments_lexer": "ipython3",
   "version": "3.7.3"
  }
 },
 "nbformat": 4,
 "nbformat_minor": 2
}
