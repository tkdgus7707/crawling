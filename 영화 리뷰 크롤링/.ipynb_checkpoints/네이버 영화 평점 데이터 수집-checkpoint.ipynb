{
 "cells": [
  {
   "cell_type": "code",
   "execution_count": 1,
   "metadata": {},
   "outputs": [],
   "source": [
    "import sys\n",
    "import os\n",
    "from selenium import webdriver\n",
    "from selenium.webdriver.support.ui import WebDriverWait\n",
    "from selenium.webdriver.support import expected_conditions as EC\n",
    "from selenium.webdriver.common.by import By\n",
    "import time\n",
    "import pandas as pd\n",
    "from bs4 import BeautifulSoup\n",
    "import re "
   ]
  },
  {
   "cell_type": "code",
   "execution_count": null,
   "metadata": {},
   "outputs": [],
   "source": []
  },
  {
   "cell_type": "code",
   "execution_count": 2,
   "metadata": {},
   "outputs": [],
   "source": [
    "def cleanReply(readData):    # 리뷰 정리\n",
    "    result = re.search('<br.*', readData)\n",
    "    result2 = result.group()\n",
    "    result3 = re.sub('<br/>','', result2)\n",
    "    return(result3)"
   ]
  },
  {
   "cell_type": "code",
   "execution_count": 3,
   "metadata": {},
   "outputs": [],
   "source": [
    "def cleanStar(readData):   # 별점 정리\n",
    "    result = re.search('>.{2}',readData)\n",
    "    result2 = result.group()\n",
    "    result3 = re.sub('>','', result2)\n",
    "    result4 = re.sub('<','', result3)\n",
    "    return(result4)"
   ]
  },
  {
   "cell_type": "code",
   "execution_count": 4,
   "metadata": {},
   "outputs": [],
   "source": [
    "def save_reply(code):      \n",
    "    #해당지점에 movie라는 텍스트를 만들어서 리뷰를 붙여녛음\n",
    "    f = open('./data/movie.txt','a',encoding='utf-8') \n",
    "    f.write(code+\"|\")\n",
    "    f.close()"
   ]
  },
  {
   "cell_type": "code",
   "execution_count": 5,
   "metadata": {},
   "outputs": [],
   "source": [
    "def save_star(code):      \n",
    "    #해당지점에 movie라는 텍스트를 만들어서 평점을 붙여녛음\n",
    "    f = open('./data/movie.txt','a',encoding='utf-8') \n",
    "    f.write(code+\"\\n\")\n",
    "    f.close()"
   ]
  },
  {
   "cell_type": "code",
   "execution_count": 6,
   "metadata": {},
   "outputs": [],
   "source": [
    "def copy():\n",
    "    for i in range(1,11):\n",
    "        time.sleep(1)\n",
    "        \n",
    "        html = driver.page_source\n",
    "        soup = BeautifulSoup(html, 'html.parser')\n",
    "        \n",
    "        te = soup.select('#old_content > table > tbody > tr:nth-child({0}) > td.title'.format(i))\n",
    "        ste = str(te)\n",
    "\n",
    "        st = soup.select('#old_content > table > tbody > tr:nth-child({0}) > td.point'.format(i))\n",
    "        sst = str(st)\n",
    "        \n",
    "        a = cleanReply(ste)\n",
    "        b = cleanStar(sst)\n",
    "        c = \"\"\n",
    "        # 평점이 3 이하이면 부정(0), 평점이 8 이상이면 긍정(1)으로 처리\n",
    "        if int(b) >= 8 or int(b) <= 3:\n",
    "            if int(b) >= 8:\n",
    "                c = \"1\"\n",
    "            elif int(b) <= 3:\n",
    "                c = \"0\"\n",
    "            else:\n",
    "                pass\n",
    "            save_reply(a)\n",
    "            save_star(c)\n",
    "            \n",
    "        lines = open('./data/movie.txt', 'r',encoding='UTF8').readlines()\n",
    "        lines_set = set(lines)\n",
    "        \n",
    "        # 중복없앰 (리뷰가 실시간으로 달리기때문에 쪽을 넘기다보면 앞에 있던 리뷰가 밀려서 오는 경우가 있음)\n",
    "        # 이럴때 중복되는 리뷰들은 지움\n",
    "        out = open('./data/movie2.txt', 'w',encoding='UTF8')\n",
    "        for line in lines_set:\n",
    "            out.write(line)\n",
    "            \n",
    "        else:\n",
    "            pass"
   ]
  },
  {
   "cell_type": "code",
   "execution_count": 7,
   "metadata": {},
   "outputs": [],
   "source": [
    "#다음페이지\n",
    "def next_page():\n",
    "        try:\n",
    "            WebDriverWait(driver, 20).until(EC.presence_of_element_located((By.CSS_SELECTOR,'#old_content > div.paging > div > a.pg_next'))).click()\n",
    "            time.sleep(3)\n",
    "        except Exception as e:\n",
    "            pass"
   ]
  },
  {
   "cell_type": "code",
   "execution_count": 8,
   "metadata": {},
   "outputs": [],
   "source": [
    "def movie_cr(num):\n",
    "    global driver\n",
    "    driver = webdriver.Chrome()\n",
    "    driver.get('https://movie.naver.com/movie/point/af/list.nhn')  # 네이버 영화 평점\n",
    "    i = 0\n",
    "    while i < num:\n",
    "        copy()\n",
    "        next_page()\n",
    "        i = i+1"
   ]
  },
  {
   "cell_type": "code",
   "execution_count": 9,
   "metadata": {},
   "outputs": [],
   "source": [
    "# movie_cr(쪽수)    한 쪽당 10개의 리뷰 \n",
    "movie_cr(5)"
   ]
  }
 ],
 "metadata": {
  "kernelspec": {
   "display_name": "Python 3",
   "language": "python",
   "name": "python3"
  },
  "language_info": {
   "codemirror_mode": {
    "name": "ipython",
    "version": 3
   },
   "file_extension": ".py",
   "mimetype": "text/x-python",
   "name": "python",
   "nbconvert_exporter": "python",
   "pygments_lexer": "ipython3",
   "version": "3.7.3"
  }
 },
 "nbformat": 4,
 "nbformat_minor": 2
}
