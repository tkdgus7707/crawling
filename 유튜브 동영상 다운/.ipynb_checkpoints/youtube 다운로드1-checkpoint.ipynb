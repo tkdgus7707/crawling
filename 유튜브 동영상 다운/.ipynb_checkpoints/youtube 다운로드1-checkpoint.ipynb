{
 "cells": [
  {
   "cell_type": "code",
   "execution_count": 1,
   "metadata": {},
   "outputs": [],
   "source": [
    "from bs4 import BeautifulSoup\n",
    "import requests\n",
    "import sys\n",
    "import string\n",
    "import os\n",
    "from selenium import webdriver\n",
    "from selenium.webdriver.chrome.options import Options\n",
    "from selenium.webdriver.support.ui import WebDriverWait\n",
    "# expected_conditions는 Selenium 2.26.0 이후 부터 사용 가능합니다.\n",
    "from selenium.webdriver.support import expected_conditions as EC\n",
    "from selenium.webdriver.common.by import By\n",
    "import time\n",
    "import pandas as pd\n",
    "from selenium.webdriver.common.keys import Keys\n",
    "import pyperclip\n",
    "from selenium.webdriver.common.action_chains import ActionChains\n",
    "import numpy as np"
   ]
  },
  {
   "cell_type": "code",
   "execution_count": 2,
   "metadata": {},
   "outputs": [],
   "source": [
    "# 검색어 입력\n",
    "find = \"빅데이터\"     # 원하는 검색어를 입력한다."
   ]
  },
  {
   "cell_type": "code",
   "execution_count": 3,
   "metadata": {},
   "outputs": [
    {
     "name": "stderr",
     "output_type": "stream",
     "text": [
      "C:\\Users\\jsdata03\\Anaconda3\\lib\\site-packages\\ipykernel_launcher.py:4: DeprecationWarning: use options instead of chrome_options\n",
      "  after removing the cwd from sys.path.\n"
     ]
    }
   ],
   "source": [
    "# 유튜브 광고제거를 위한 ublock 옵션 추가\n",
    "chop = webdriver.ChromeOptions()\n",
    "chop.add_extension('uBlock-Origin-development-build_v1.20.3.102.crx')\n",
    "driver = webdriver.Chrome(chrome_options = chop)\n",
    "driver.get(\"https://www.youtube.com/results?search_query={0}\".format(find))\n",
    "# 검색어 결과"
   ]
  },
  {
   "cell_type": "code",
   "execution_count": 4,
   "metadata": {},
   "outputs": [
    {
     "ename": "KeyboardInterrupt",
     "evalue": "",
     "output_type": "error",
     "traceback": [
      "\u001b[1;31m---------------------------------------------------------------------------\u001b[0m",
      "\u001b[1;31mKeyboardInterrupt\u001b[0m                         Traceback (most recent call last)",
      "\u001b[1;32m<ipython-input-4-245901b9d7fe>\u001b[0m in \u001b[0;36m<module>\u001b[1;34m\u001b[0m\n\u001b[0;32m     44\u001b[0m \u001b[1;33m\u001b[0m\u001b[0m\n\u001b[0;32m     45\u001b[0m         \u001b[1;32mtry\u001b[0m\u001b[1;33m:\u001b[0m\u001b[1;33m\u001b[0m\u001b[1;33m\u001b[0m\u001b[0m\n\u001b[1;32m---> 46\u001b[1;33m             \u001b[0mdown\u001b[0m\u001b[1;33m=\u001b[0m\u001b[0mWebDriverWait\u001b[0m\u001b[1;33m(\u001b[0m\u001b[0mdriver\u001b[0m\u001b[1;33m,\u001b[0m \u001b[1;36m180\u001b[0m\u001b[1;33m)\u001b[0m\u001b[1;33m.\u001b[0m\u001b[0muntil\u001b[0m\u001b[1;33m(\u001b[0m\u001b[0mEC\u001b[0m\u001b[1;33m.\u001b[0m\u001b[0mpresence_of_element_located\u001b[0m\u001b[1;33m(\u001b[0m\u001b[1;33m(\u001b[0m\u001b[0mBy\u001b[0m\u001b[1;33m.\u001b[0m\u001b[0mCSS_SELECTOR\u001b[0m\u001b[1;33m,\u001b[0m\u001b[1;34m'#downloadq'\u001b[0m\u001b[1;33m)\u001b[0m\u001b[1;33m)\u001b[0m\u001b[1;33m)\u001b[0m\u001b[1;33m\u001b[0m\u001b[1;33m\u001b[0m\u001b[0m\n\u001b[0m\u001b[0;32m     47\u001b[0m             \u001b[0mdown\u001b[0m\u001b[1;33m.\u001b[0m\u001b[0mclick\u001b[0m\u001b[1;33m(\u001b[0m\u001b[1;33m)\u001b[0m\u001b[1;33m\u001b[0m\u001b[1;33m\u001b[0m\u001b[0m\n\u001b[0;32m     48\u001b[0m \u001b[1;33m\u001b[0m\u001b[0m\n",
      "\u001b[1;32m~\\Anaconda3\\lib\\site-packages\\selenium\\webdriver\\support\\wait.py\u001b[0m in \u001b[0;36muntil\u001b[1;34m(self, method, message)\u001b[0m\n\u001b[0;32m     75\u001b[0m                 \u001b[0mscreen\u001b[0m \u001b[1;33m=\u001b[0m \u001b[0mgetattr\u001b[0m\u001b[1;33m(\u001b[0m\u001b[0mexc\u001b[0m\u001b[1;33m,\u001b[0m \u001b[1;34m'screen'\u001b[0m\u001b[1;33m,\u001b[0m \u001b[1;32mNone\u001b[0m\u001b[1;33m)\u001b[0m\u001b[1;33m\u001b[0m\u001b[1;33m\u001b[0m\u001b[0m\n\u001b[0;32m     76\u001b[0m                 \u001b[0mstacktrace\u001b[0m \u001b[1;33m=\u001b[0m \u001b[0mgetattr\u001b[0m\u001b[1;33m(\u001b[0m\u001b[0mexc\u001b[0m\u001b[1;33m,\u001b[0m \u001b[1;34m'stacktrace'\u001b[0m\u001b[1;33m,\u001b[0m \u001b[1;32mNone\u001b[0m\u001b[1;33m)\u001b[0m\u001b[1;33m\u001b[0m\u001b[1;33m\u001b[0m\u001b[0m\n\u001b[1;32m---> 77\u001b[1;33m             \u001b[0mtime\u001b[0m\u001b[1;33m.\u001b[0m\u001b[0msleep\u001b[0m\u001b[1;33m(\u001b[0m\u001b[0mself\u001b[0m\u001b[1;33m.\u001b[0m\u001b[0m_poll\u001b[0m\u001b[1;33m)\u001b[0m\u001b[1;33m\u001b[0m\u001b[1;33m\u001b[0m\u001b[0m\n\u001b[0m\u001b[0;32m     78\u001b[0m             \u001b[1;32mif\u001b[0m \u001b[0mtime\u001b[0m\u001b[1;33m.\u001b[0m\u001b[0mtime\u001b[0m\u001b[1;33m(\u001b[0m\u001b[1;33m)\u001b[0m \u001b[1;33m>\u001b[0m \u001b[0mend_time\u001b[0m\u001b[1;33m:\u001b[0m\u001b[1;33m\u001b[0m\u001b[1;33m\u001b[0m\u001b[0m\n\u001b[0;32m     79\u001b[0m                 \u001b[1;32mbreak\u001b[0m\u001b[1;33m\u001b[0m\u001b[1;33m\u001b[0m\u001b[0m\n",
      "\u001b[1;31mKeyboardInterrupt\u001b[0m: "
     ]
    }
   ],
   "source": [
    "##검색후 순서대로 영상 클릭하기\n",
    "op = WebDriverWait(driver, 30).until(EC.presence_of_element_located((By.CSS_SELECTOR,'#page-manager > ytd-search')))\n",
    "start_code = 0\n",
    "try:\n",
    "    while start_code < 100:\n",
    "        #start_code번째 영상을 클릭하기\n",
    "        op = WebDriverWait(driver, 30).until(EC.presence_of_element_located((By.CSS_SELECTOR,'#page-manager > ytd-search')))\n",
    "        f = op.find_elements_by_css_selector('#dismissable')[start_code]\n",
    "        f.click()\n",
    "        time.sleep(2)\n",
    "        #공유열기\n",
    "        sharebutton = WebDriverWait(driver, 30).until(EC.presence_of_element_located((By.CSS_SELECTOR,'#top-level-buttons > ytd-button-renderer:nth-child(3)')))\n",
    "        sharebutton.click()\n",
    "        time.sleep(1)\n",
    "        #url 가져와서 저장하기\n",
    "        text_copy = WebDriverWait(driver, 30).until(EC.presence_of_element_located((By.CSS_SELECTOR,'#copy-button')))\n",
    "        text_copy.click()   # 복사됨\n",
    "        \n",
    "        driver.back()\n",
    "        \n",
    "        #컨버터 사이트\n",
    "        driver.execute_script(\n",
    "          \"(function() { \" +\n",
    "          \"window.open('https://www.onlinevideoconverter.com/ko/youtube-converter', 'second');\" + \n",
    "          \"})();\"\n",
    "        )\n",
    "        time.sleep(2)\n",
    "        driver.switch_to.window(\"second\")\n",
    "        \n",
    "        req = requests.get(\"https://www.onlinevideoconverter.com/ko/youtube-converter\")\n",
    "        source = req.text\n",
    "        soup = BeautifulSoup(source, 'html.parser')\n",
    "        \n",
    "        # 검색창 클릭\n",
    "        engine = WebDriverWait(driver, 30).until(EC.presence_of_element_located((By.CSS_SELECTOR,'#texturl')))\n",
    "        engine.click()\n",
    "        time.sleep(1)\n",
    "        # url 입력\n",
    "        url_text = pyperclip.paste()\n",
    "        engine.send_keys(url_text)\n",
    "        \n",
    "        start=WebDriverWait(driver, 30).until(EC.presence_of_element_located((By.CSS_SELECTOR,'#convert1')))\n",
    "        start.click()\n",
    "        \n",
    "        try:\n",
    "            down=WebDriverWait(driver, 180).until(EC.presence_of_element_located((By.CSS_SELECTOR,'#downloadq')))\n",
    "            down.click()\n",
    "\n",
    "        except Exception as e:\n",
    "            pass\n",
    "        \n",
    "        time.sleep(2)\n",
    "        driver.close()\n",
    "        \n",
    "        driver.switch_to.window(driver.window_handles[0])\n",
    "       \n",
    "        start_code = start_code + 1\n",
    "        \n",
    "except Exception as e:\n",
    "    time.sleep(1)\n",
    "    driver.back()\n",
    "    pass"
   ]
  },
  {
   "cell_type": "code",
   "execution_count": null,
   "metadata": {},
   "outputs": [],
   "source": []
  },
  {
   "cell_type": "code",
   "execution_count": null,
   "metadata": {},
   "outputs": [],
   "source": []
  },
  {
   "cell_type": "code",
   "execution_count": null,
   "metadata": {},
   "outputs": [],
   "source": []
  },
  {
   "cell_type": "code",
   "execution_count": null,
   "metadata": {},
   "outputs": [],
   "source": []
  },
  {
   "cell_type": "code",
   "execution_count": null,
   "metadata": {},
   "outputs": [],
   "source": []
  },
  {
   "cell_type": "code",
   "execution_count": null,
   "metadata": {},
   "outputs": [],
   "source": []
  }
 ],
 "metadata": {
  "kernelspec": {
   "display_name": "Python 3",
   "language": "python",
   "name": "python3"
  },
  "language_info": {
   "codemirror_mode": {
    "name": "ipython",
    "version": 3
   },
   "file_extension": ".py",
   "mimetype": "text/x-python",
   "name": "python",
   "nbconvert_exporter": "python",
   "pygments_lexer": "ipython3",
   "version": "3.7.3"
  }
 },
 "nbformat": 4,
 "nbformat_minor": 2
}
