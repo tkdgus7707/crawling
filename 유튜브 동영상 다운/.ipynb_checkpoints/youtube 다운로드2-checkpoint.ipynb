{
 "cells": [
  {
   "cell_type": "code",
   "execution_count": 1,
   "metadata": {},
   "outputs": [],
   "source": [
    "from bs4 import BeautifulSoup\n",
    "import requests\n",
    "import sys\n",
    "import string\n",
    "import os\n",
    "from selenium import webdriver\n",
    "from selenium.webdriver.chrome.options import Options\n",
    "from selenium.webdriver.support.ui import WebDriverWait\n",
    "# expected_conditions는 Selenium 2.26.0 이후 부터 사용 가능합니다.\n",
    "from selenium.webdriver.support import expected_conditions as EC\n",
    "from selenium.webdriver.common.by import By\n",
    "import time\n",
    "import pandas as pd\n",
    "from selenium.webdriver.common.keys import Keys\n",
    "import pyperclip\n",
    "from selenium.webdriver.common.action_chains import ActionChains\n",
    "import numpy as np\n",
    "from pytube import YouTube   # 파이썬 3.5이전에서만 돌아감"
   ]
  },
  {
   "cell_type": "code",
   "execution_count": 2,
   "metadata": {},
   "outputs": [
    {
     "name": "stderr",
     "output_type": "stream",
     "text": [
      "C:\\Users\\jsdata03\\Anaconda3\\envs\\imagine\\lib\\site-packages\\ipykernel_launcher.py:4: DeprecationWarning: use options instead of chrome_options\n",
      "  after removing the cwd from sys.path.\n"
     ]
    }
   ],
   "source": [
    "# 유튜브 광고제거를 위한 ublock 옵션 추가\n",
    "chop = webdriver.ChromeOptions()\n",
    "chop.add_extension('uBlock-Origin-development-build_v1.20.3.102.crx')\n",
    "driver = webdriver.Chrome(chrome_options = chop)"
   ]
  },
  {
   "cell_type": "code",
   "execution_count": 3,
   "metadata": {},
   "outputs": [],
   "source": [
    "def youtube(find,num):\n",
    "    for i in range(0,len(find)):\n",
    "        word = find[i]\n",
    "        driver.get(\"https://www.youtube.com/results?search_query={0}\".format(word))  # 유튜브 검색결과창\n",
    "\n",
    "        ##검색후 순서대로 영상 클릭하기\n",
    "        start_code = 0\n",
    "        try:\n",
    "            while start_code < num:\n",
    "                #start_code번째 영상을 클릭하기\n",
    "                op = WebDriverWait(driver, 30).until(EC.presence_of_element_located((By.CSS_SELECTOR,'#page-manager > ytd-search')))\n",
    "                f = op.find_elements_by_css_selector('#dismissable')[start_code]\n",
    "                f.click()\n",
    "                time.sleep(2)\n",
    "                #공유열기\n",
    "                sharebutton = WebDriverWait(driver, 30).until(EC.presence_of_element_located((By.CSS_SELECTOR,'#top-level-buttons > ytd-button-renderer:nth-child(3)')))\n",
    "                sharebutton.click()\n",
    "                time.sleep(1)\n",
    "                #url 가져와서 저장하기\n",
    "                text_copy = WebDriverWait(driver, 30).until(EC.presence_of_element_located((By.CSS_SELECTOR,'#copy-button')))\n",
    "                text_copy.click()   # 복사됨\n",
    "                time.sleep(2)\n",
    "                driver.back()\n",
    "\n",
    "                url_text = pyperclip.paste()    # 클립보드에 있는 문자열 복사\n",
    "\n",
    "                try:\n",
    "                    yt = YouTube(url_text)\n",
    "                    yt.streams.first().download('./download')\n",
    "                    # pytube 에서 main 과 stream 변경 해주어야됨\n",
    "                except:\n",
    "                    pass\n",
    "\n",
    "                start_code = start_code + 1\n",
    "                time.sleep(1)\n",
    "\n",
    "        except Exception as e:\n",
    "            driver.get(\"https://www.youtube.com/results?search_query={0}\".format(word))\n",
    "\n",
    "\n",
    "    print(\"완료\")   # 다운이 끝나면 \"완료\"가 뜨게함"
   ]
  },
  {
   "cell_type": "markdown",
   "metadata": {},
   "source": [
    " pytube에서 title 에러가 뜨면\n",
    "https://github.com/nficano/pytube/pull/435/files 를 참조하여\n",
    "내부 코드 변경"
   ]
  },
  {
   "cell_type": "code",
   "execution_count": 4,
   "metadata": {},
   "outputs": [
    {
     "name": "stdout",
     "output_type": "stream",
     "text": [
      "완료\n"
     ]
    }
   ],
   "source": [
    "# youtube(검색어, 영상개수)\n",
    "\n",
    "youtube([\"인공지능\",\"빅데이터\"],2)   # 검색어는 list 형식으로 입력 해주어야 함"
   ]
  },
  {
   "cell_type": "code",
   "execution_count": null,
   "metadata": {},
   "outputs": [],
   "source": []
  },
  {
   "cell_type": "code",
   "execution_count": null,
   "metadata": {},
   "outputs": [],
   "source": []
  }
 ],
 "metadata": {
  "kernelspec": {
   "display_name": "py3_5",
   "language": "python",
   "name": "imagine"
  },
  "language_info": {
   "codemirror_mode": {
    "name": "ipython",
    "version": 3
   },
   "file_extension": ".py",
   "mimetype": "text/x-python",
   "name": "python",
   "nbconvert_exporter": "python",
   "pygments_lexer": "ipython3",
   "version": "3.5.6"
  }
 },
 "nbformat": 4,
 "nbformat_minor": 2
}
